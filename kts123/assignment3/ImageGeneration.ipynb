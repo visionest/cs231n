{
 "cells": [
  {
   "cell_type": "markdown",
   "metadata": {},
   "source": [
    "# 이미지 생성 Image Generation\n",
    "이번 노트북에서는 지난 시간에 이어 이미지 미분값에 대한 탐구를 계속한다.   \n",
    "이번에도 TinyImageNet에 기 훈련된(pretrained)모델을 사용한다. \n",
    "\n",
    "이미지 생성을 위해 이 이미지 미분을 사용하는 여러 기법을 알아 볼 것이다.\n",
    "구현할 내용은 다음과 같다.  \n",
    " - 클래스 시각화 (class visualizations)\n",
    " - 피쳐 뒤집기(feature inversion)\n",
    " - 깊은 꿈(DeepDream)"
   ]
  },
  {
   "cell_type": "code",
   "execution_count": 8,
   "metadata": {
    "collapsed": false
   },
   "outputs": [
    {
     "data": {
      "application/javascript": [
       "var fname = document.body.attributes['data-notebook-name'].value\n",
       "var fpath = document.body.attributes['data-notebook-path'].value.replace(/^local/, '/root').replace(fname, '')\n",
       "IPython.notebook.kernel.execute(\"theNoteBookDir = '\" + fpath + \"'\" );"
      ],
      "text/plain": [
       "<IPython.core.display.Javascript object>"
      ]
     },
     "metadata": {},
     "output_type": "display_data"
    }
   ],
   "source": [
    "%%javascript\n",
    "var fname = document.body.attributes['data-notebook-name'].value\n",
    "var fpath = document.body.attributes['data-notebook-path'].value.replace(/^local/, '/root').replace(fname, '')\n",
    "IPython.notebook.kernel.execute(\"theNoteBookDir = '\" + fpath + \"'\" );"
   ]
  },
  {
   "cell_type": "code",
   "execution_count": 9,
   "metadata": {
    "collapsed": true
   },
   "outputs": [],
   "source": [
    "import os\n",
    "os.chdir(theNoteBookDir)"
   ]
  },
  {
   "cell_type": "code",
   "execution_count": 11,
   "metadata": {
    "collapsed": false
   },
   "outputs": [
    {
     "name": "stdout",
     "output_type": "stream",
     "text": [
      "The autoreload extension is already loaded. To reload it, use:\n",
      "  %reload_ext autoreload\n"
     ]
    }
   ],
   "source": [
    "# 언제나 처럼, 약간의 셋업이 필요하다\n",
    "\n",
    "import time, os, json\n",
    "import numpy as np\n",
    "from scipy.misc import imread, imresize\n",
    "import matplotlib.pyplot as plt\n",
    "\n",
    "from cs231n.classifiers.pretrained_cnn import PretrainedCNN\n",
    "from cs231n.data_utils  import load_tiny_imagenet\n",
    "from cs231n.image_utils import blur_image, deprocess_image, preprocess_image\n",
    "\n",
    "%matplotlib inline\n",
    "plt.rcParams['figure.figsize']      = (10.0, 8.0) # set default size of plots\n",
    "plt.rcParams['image.interpolation'] = 'nearest'\n",
    "plt.rcParams['image.cmap']          = 'gray'\n",
    "\n",
    "# for auto-reloading external modules\n",
    "# see http://stackoverflow.com/questions/1907993/autoreload-of-modules-in-ipython\n",
    "%load_ext autoreload\n",
    "%autoreload 2"
   ]
  },
  {
   "cell_type": "markdown",
   "metadata": {},
   "source": [
    "# TinyImageNet 과 기 훈련된(pretrained) 모델\n",
    "이전 노트북 처럼,  TinyImageNet 데이터셋과 기 훈련된 모델을 로드한다."
   ]
  },
  {
   "cell_type": "code",
   "execution_count": 12,
   "metadata": {
    "collapsed": false
   },
   "outputs": [
    {
     "name": "stdout",
     "output_type": "stream",
     "text": [
      "loading training data for synset 20 / 100\n",
      "loading training data for synset 40 / 100\n",
      "loading training data for synset 60 / 100\n",
      "loading training data for synset 80 / 100\n",
      "loading training data for synset 100 / 100\n"
     ]
    }
   ],
   "source": [
    "data  = load_tiny_imagenet('cs231n/datasets/tiny-imagenet-100-A', subtract_mean=True)\n",
    "model = PretrainedCNN(h5_file='cs231n/datasets/pretrained_model.h5')"
   ]
  },
  {
   "cell_type": "markdown",
   "metadata": {},
   "source": [
    "# 클래스 시각화\n",
    "\n",
    "무작위 잡음 이미지를 시작점으로 해서 해당 클래스에 대한 기울기 상승 알고리즘을 수행한다.\n",
    "이렇게 생성된 이미지 역시 해당 클래스로 인식될 것이다.  \n",
    "이 아이디어는  논문[1]에서 처음 소개되었다.  \n",
    "논문[2]에서는 이 아이디어를 더 확장하였다.  \n",
    "정규화 기법을 제안해서 더 고퀄 이미지를 만들었다.  \n",
    "\n",
    "- 좀 더 구체적으로 설명하기 위해 기호를 정의하자,\n",
    "  - $I$: 이미지 \n",
    "  - $y$: 타겟 클래스\n",
    "  - $s_y(I)$: 이미지 $I$ 를 CNN에 돌렸을 때 $y$ 클래스에 대응되는 스코어  \n",
    "    이 스코어 값은 소프트맥스를 취하기 전의 즉 정규화 되지 않은 값임을 유의하라.  \n",
    "  - $I^*$ : 생성하고 싶은 이미지.\n",
    "    - 클래스 $y$ 에 대해 매우 높은 값을 갖기를 원함. \n",
    "- 최적화 문제로 바라보기\n",
    "  - 아래와 같이 최적화 문제로 $I^*$ 값을 정의할 수 있다.  \n",
    "     - $ I^* = \\arg\\max_I s_y(I) + R(I) $ \n",
    "  - $R$: (암시적으로 가능한 ? possibly implicit) 정규화 함수    \n",
    "    여기서는 명시적인 L2 정규화와 논문[2] 에서 제안한 (암시적인) 정규화를 동시에 사용할 것이다.  \n",
    "    추가된 (암시적) 정규화 요소는 주기성을 갖는 블러링 이미지를 유도한다.\n",
    "      - $ R(I) +  \\lambda \\|I\\|_2^2 $\n",
    "  - 최솟값이 아닌 최대값 문제이므로 기울기 하강이 아닌   \n",
    "    기울기 상승 알고리즘으로 위의 최적화 문제를 풀 수 있다.  \n",
    "    생성된 이미지에 대해서 미분값을 계산하면 된다.\n",
    "\n",
    "아래 셀의  `create_class_visualization` 함수 구현을 완성하라.\n",
    "\n",
    "논문[1]:  \n",
    "Karen Simonyan, Andrea Vedaldi, and Andrew Zisserman.   \n",
    "\"Deep Inside Convolutional Networks: Visualising Image Classification Models and Saliency Maps\",  \n",
    "ICLR Workshop 2014.\n",
    "\n",
    "논문[2]:  \n",
    "Yosinski et al,  \n",
    "\"Understanding Neural Networks Through Deep Visualization\",  \n",
    "ICML 2015 Deep Learning Workshop\n",
    "\n",
    "cs231n:\n",
    "\n"
   ]
  },
  {
   "cell_type": "code",
   "execution_count": 70,
   "metadata": {
    "collapsed": false
   },
   "outputs": [
    {
     "name": "stdout",
     "output_type": "stream",
     "text": [
      "X\n",
      "[[0 1 2 3 4]\n",
      " [5 6 7 8 9]]\n",
      "0:\n",
      "[[5 6 7 8 9]\n",
      " [0 1 2 3 4]]\n",
      "-2:\n",
      "[[5 6 7 8 9]\n",
      " [0 1 2 3 4]]\n",
      "1: \n",
      "[[2 3 4 0 1]\n",
      " [7 8 9 5 6]]\n",
      "-1: \n",
      "[[2 3 4 0 1]\n",
      " [7 8 9 5 6]]\n",
      "0,1:\n",
      "[[7 8 9 5 6]\n",
      " [2 3 4 0 1]]\n"
     ]
    }
   ],
   "source": [
    "X = np.array([[0,1, 2, 3,4], [5,6,7,8,9]])\n",
    "print 'X\\n', X\n",
    "print '0:\\n',  np.roll(X, 3, 0)\n",
    "print '-2:\\n', np.roll(X, 3, -2)\n",
    "print '1: \\n', np.roll(X, 3, 1)\n",
    "print '-1: \\n',np.roll(X, 3, -1)\n",
    "print '0,1:\\n',np.roll(np.roll(X, 3, 0), 3, 1)"
   ]
  },
  {
   "cell_type": "code",
   "execution_count": 62,
   "metadata": {
    "collapsed": true
   },
   "outputs": [],
   "source": [
    "def create_class_visualization(target_y, model, **kwargs):\n",
    "    \"\"\"\n",
    "    Perform optimization over the image to generate class visualizations.\n",
    "    클래스 시각화를 위해서 해당 이미지에 대한 최적화를 수행.\n",
    "      \n",
    "    입력:\n",
    "      - target_y: [0, 100) 범위의 정수. 타켓 클래스를 의미.\n",
    "      - model   : 기 훈련된 CNN 모델, 이미지 생성에 사용함.\n",
    "  \n",
    "     ** kwargs 인자값\n",
    "      - learning_rate  : learning rate (float)\n",
    "      - blur_every     : 이미지에 대한 블러 정규화 빈도(integer)\n",
    "      - l2_reg         : 이미지에 대한 L2   정규화 강도. 위 최적화 수식에서의 λ값 (float)\n",
    "      - max_jitter     : 무작위 지터(jitter) 강도. 이미지 전처리 정규화 성분.\n",
    "      - num_iterations : run 수행 반복횟수\n",
    "      - show_every     : 이미지 보여주는 빈도\n",
    "    출력:\n",
    "      - X : 생성된 이미지 (1, 3, 64, 64)\n",
    "    \"\"\"\n",
    "                               # 패러미터 이름,   기본값\n",
    "    learning_rate  = kwargs.pop('learning_rate',  10000)\n",
    "    blur_every     = kwargs.pop('blur_every',     1)\n",
    "    l2_reg         = kwargs.pop('l2_reg',         1e-6)\n",
    "    max_jitter     = kwargs.pop('max_jitter',     4)\n",
    "    num_iterations = kwargs.pop('num_iterations', 100)\n",
    "    show_every     = kwargs.pop('show_every',     25)\n",
    "  \n",
    "    X = np.random.randn(1, 3, 64, 64)\n",
    "    for t in xrange(num_iterations):        \n",
    "        # 정규화를 위해, 무작위 지터를 이미지에 수행한다.\n",
    "        #    구간 [-max_jitter, max_jitter+1) 에서 2개의 값을 꺼낸다. \n",
    "        ox, oy = np.random.randint(-max_jitter, max_jitter+1, 2) \n",
    "        #    ox 만큼  height 방향으로 r-rotate, oy 만큼 width 방향으로 r-rotate 시킨다.  \n",
    "        X = np.roll(np.roll(X, ox, -1), oy, -2)\n",
    "\n",
    "        dX = None\n",
    "        ############################################################################\n",
    "        # TODO: target_y 클래스 스코에 대한  이미지 미분값 dX 를 계산하라.         #\n",
    "        # 저번 시간에 했던 '거짓 이미지' 와 유사하다.                              #\n",
    "        # 단, L2 정규화 값을 dX에 더한 후에,                                       #\n",
    "        # learning_rate를 이용해서 이미지 x를 업데이트 하라.                       #\n",
    "        ############################################################################\n",
    "        out,  cache = model.forward(X)  \n",
    "        dout        = np.zeros_like(out)        # (1, 100)               \n",
    "        dout[0, target_y] = 1\n",
    "        dX  = model.backward(dout, cache)[0]\n",
    "        dX += 2 * l2_reg * X  \n",
    "        X  += dX * learning_rate               \n",
    "        ############################################################################\n",
    "        #                            작성한 코드 끝                                #\n",
    "        ############################################################################\n",
    "    \n",
    "        # 지터효과를 다시 복원시킨다. \n",
    "        X = np.roll(np.roll(X, -ox, -1), -oy, -2)\n",
    "    \n",
    "        # 정규화를 위해, 이미지를 자른다\n",
    "        X = np.clip(X, -data['mean_image'], 255.0 - data['mean_image'])\n",
    "    \n",
    "        # 정규화를 위해, 주기적으로 블러 효과를 적용한다.\n",
    "        if t % blur_every == 0:\n",
    "            X = blur_image(X)\n",
    "    \n",
    "        # 주기적으로 중간 이미지를 그린다.\n",
    "        if t % show_every == 0:\n",
    "            plt.imshow(deprocess_image(X, data['mean_image']))\n",
    "            plt.gcf().set_size_inches(3, 3)\n",
    "            plt.axis('off')\n",
    "            plt.show()\n",
    "    return X"
   ]
  },
  {
   "cell_type": "markdown",
   "metadata": {},
   "source": [
    "위의 코드를 이용하면 쿨한 이미지 생성이 가능하다!   \n",
    "아래 예제에서는\n",
    "쿨하게 보이는 이미지 생성을 시도한다.\n",
    "\n",
    "Yosinski et al  논문에서 보이는 다른 정규화 방법을 시도해 볼 수 있지만  \n",
    "의무사항은 아니다."
   ]
  },
  {
   "cell_type": "code",
   "execution_count": 76,
   "metadata": {
    "collapsed": false
   },
   "outputs": [
    {
     "name": "stdout",
     "output_type": "stream",
     "text": [
      "['tarantula']\n"
     ]
    },
    {
     "data": {
      "image/png": "[encoded data removed]",
      "text/plain": [
       "<matplotlib.figure.Figure at 0x7fe6ac43e4d0>"
      ]
     },
     "metadata": {},
     "output_type": "display_data"
    },
    {
     "data": {
      "image/png": "[encoded data removed]",
      "text/plain": [
       "<matplotlib.figure.Figure at 0x7fe6abe7dfd0>"
      ]
     },
     "metadata": {},
     "output_type": "display_data"
    },
    {
     "data": {
      "image/png": "[encoded data removed]",
      "text/plain": [
       "<matplotlib.figure.Figure at 0x7fe6ac299d50>"
      ]
     },
     "metadata": {},
     "output_type": "display_data"
    },
    {
     "data": {
      "image/png": "[encoded data removed]",
      "text/plain": [
       "<matplotlib.figure.Figure at 0x7fe6acd206d0>"
      ]
     },
     "metadata": {},
     "output_type": "display_data"
    }
   ],
   "source": [
    "target_y = 43 # Tarantula\n",
    "print data['class_names'][target_y]\n",
    "#X = create_class_visualization(target_y, model, show_every=25, num_iterations = 100)\n",
    "X = create_class_visualization(target_y, model, show_every=50, num_iterations = 200)"
   ]
  },
  {
   "cell_type": "markdown",
   "metadata": {},
   "source": [
    "# 피처 뒤집기: Feature Inversion\n",
    "In an attempt to understand the types of features that convolutional networks learn to recognize, a recent paper [1] attempts to reconstruct an image from its feature representation. We can easily implement this idea using image gradients from the pretrained network.\n",
    "\n",
    "Concretely, given a image $I$, let $\\phi_\\ell(I)$ be the activations at layer $\\ell$ of the convolutional network $\\phi$. We wish to find an image $I^*$ with a similar feature representation as $I$ at layer $\\ell$ of the network $\\phi$ by solving the optimization problem\n",
    "\n",
    "$$\n",
    "I^* = \\arg\\min_{I'} \\|\\phi_\\ell(I) - \\phi_\\ell(I')\\|_2^2 + R(I')\n",
    "$$\n",
    "\n",
    "where $\\|\\cdot\\|_2^2$ is the squared Euclidean norm. As above, $R$ is a (possibly implicit) regularizer. We can solve this optimization problem using gradient descent, computing gradients with respect to the generated image. We will use (explicit) L2 regularization of the form\n",
    "\n",
    "$$\n",
    "R(I') + \\lambda \\|I'\\|_2^2\n",
    "$$\n",
    "\n",
    "together with implicit regularization by periodically blurring the image, as recommended by [2].\n",
    "\n",
    "Implement this method in the function below.\n",
    "\n",
    "[1] Aravindh Mahendran, Andrea Vedaldi, \"Understanding Deep Image Representations by Inverting them\", CVPR 2015\n",
    "\n",
    "[2] Yosinski et al, \"Understanding Neural Networks Through Deep Visualization\", ICML 2015 Deep Learning Workshop"
   ]
  },
  {
   "cell_type": "code",
   "execution_count": null,
   "metadata": {
    "collapsed": false
   },
   "outputs": [],
   "source": [
    "def invert_features(target_feats, layer, model, **kwargs):\n",
    "  \"\"\"\n",
    "  Perform feature inversion in the style of Mahendran and Vedaldi 2015, using\n",
    "  L2 regularization and periodic blurring.\n",
    "  \n",
    "  Inputs:\n",
    "  - target_feats: Image features of the target image, of shape (1, C, H, W);\n",
    "    we will try to generate an image that matches these features\n",
    "  - layer: The index of the layer from which the features were extracted\n",
    "  - model: A PretrainedCNN that was used to extract features\n",
    "  \n",
    "  Keyword arguments:\n",
    "  - learning_rate: The learning rate to use for gradient descent\n",
    "  - num_iterations: The number of iterations to use for gradient descent\n",
    "  - l2_reg: The strength of L2 regularization to use; this is lambda in the\n",
    "    equation above.\n",
    "  - blur_every: How often to blur the image as implicit regularization; set\n",
    "    to 0 to disable blurring.\n",
    "  - show_every: How often to show the generated image; set to 0 to disable\n",
    "    showing intermediate reuslts.\n",
    "    \n",
    "  Returns:\n",
    "  - X: Generated image of shape (1, 3, 64, 64) that matches the target features.\n",
    "  \"\"\"\n",
    "  learning_rate = kwargs.pop('learning_rate', 10000)\n",
    "  num_iterations = kwargs.pop('num_iterations', 500)\n",
    "  l2_reg = kwargs.pop('l2_reg', 1e-7)\n",
    "  blur_every = kwargs.pop('blur_every', 1)\n",
    "  show_every = kwargs.pop('show_every', 50)\n",
    "  \n",
    "  X = np.random.randn(1, 3, 64, 64)\n",
    "  for t in xrange(num_iterations):\n",
    "    ############################################################################\n",
    "    # TODO: Compute the image gradient dX of the reconstruction loss with      #\n",
    "    # respect to the image. You should include L2 regularization penalizing    #\n",
    "    # large pixel values in the generated image using the l2_reg parameter;    #\n",
    "    # then update the generated image using the learning_rate from above.      #\n",
    "    ############################################################################\n",
    "    pass\n",
    "    ############################################################################\n",
    "    #                             END OF YOUR CODE                             #\n",
    "    ############################################################################\n",
    "    \n",
    "    # As a regularizer, clip the image\n",
    "    X = np.clip(X, -data['mean_image'], 255.0 - data['mean_image'])\n",
    "    \n",
    "    # As a regularizer, periodically blur the image\n",
    "    if (blur_every > 0) and t % blur_every == 0:\n",
    "      X = blur_image(X)\n",
    "\n",
    "    if (show_every > 0) and (t % show_every == 0 or t + 1 == num_iterations):\n",
    "      plt.imshow(deprocess_image(X, data['mean_image']))\n",
    "      plt.gcf().set_size_inches(3, 3)\n",
    "      plt.axis('off')\n",
    "      plt.title('t = %d' % t)\n",
    "      plt.show()"
   ]
  },
  {
   "cell_type": "markdown",
   "metadata": {},
   "source": [
    "### Shallow feature reconstruction\n",
    "After implementing the feature inversion above, run the following cell to try and reconstruct features from the fourth convolutional layer of the pretrained model. You should be able to reconstruct the features using the provided optimization parameters."
   ]
  },
  {
   "cell_type": "code",
   "execution_count": null,
   "metadata": {
    "collapsed": false,
    "scrolled": false
   },
   "outputs": [],
   "source": [
    "filename = 'kitten.jpg'\n",
    "layer = 3 # layers start from 0 so these are features after 4 convolutions\n",
    "img = imresize(imread(filename), (64, 64))\n",
    "\n",
    "plt.imshow(img)\n",
    "plt.gcf().set_size_inches(3, 3)\n",
    "plt.title('Original image')\n",
    "plt.axis('off')\n",
    "plt.show()\n",
    "\n",
    "# Preprocess the image before passing it to the network:\n",
    "# subtract the mean, add a dimension, etc\n",
    "img_pre = preprocess_image(img, data['mean_image'])\n",
    "\n",
    "# Extract features from the image\n",
    "feats, _ = model.forward(img_pre, end=layer)\n",
    "\n",
    "# Invert the features\n",
    "kwargs = {\n",
    "  'num_iterations': 400,\n",
    "  'learning_rate': 5000,\n",
    "  'l2_reg': 1e-8,\n",
    "  'show_every': 100,\n",
    "  'blur_every': 10,\n",
    "}\n",
    "X = invert_features(feats, layer, model, **kwargs)"
   ]
  },
  {
   "cell_type": "markdown",
   "metadata": {},
   "source": [
    "### Deep feature reconstruction\n",
    "Reconstructing images using features from deeper layers of the network tends to give interesting results. In the cell below, try to reconstruct the best image you can by inverting the features after 7 layers of convolutions. You will need to play with the hyperparameters to try and get a good result.\n",
    "\n",
    "HINT: If you read the paper by Mahendran and Vedaldi, you'll see that reconstructions from deep features tend not to look much like the original image, so you shouldn't expect the results to look like the reconstruction above. You should be able to get an image that shows some discernable structure within 1000 iterations."
   ]
  },
  {
   "cell_type": "code",
   "execution_count": null,
   "metadata": {
    "collapsed": false
   },
   "outputs": [],
   "source": [
    "filename = 'kitten.jpg'\n",
    "layer = 6 # layers start from 0 so these are features after 7 convolutions\n",
    "img = imresize(imread(filename), (64, 64))\n",
    "\n",
    "plt.imshow(img)\n",
    "plt.gcf().set_size_inches(3, 3)\n",
    "plt.title('Original image')\n",
    "plt.axis('off')\n",
    "plt.show()\n",
    "\n",
    "# Preprocess the image before passing it to the network:\n",
    "# subtract the mean, add a dimension, etc\n",
    "img_pre = preprocess_image(img, data['mean_image'])\n",
    "\n",
    "# Extract features from the image\n",
    "feats, _ = model.forward(img_pre, end=layer)\n",
    "\n",
    "# Invert the features\n",
    "# You will need to play with these parameters.\n",
    "kwargs = {\n",
    "  'num_iterations': 1000,\n",
    "  'learning_rate': 0,\n",
    "  'l2_reg': 0,\n",
    "  'show_every': 100,\n",
    "  'blur_every': 0,\n",
    "}\n",
    "X = invert_features(feats, layer, model, **kwargs)"
   ]
  },
  {
   "cell_type": "markdown",
   "metadata": {},
   "source": [
    "# DeepDream\n",
    "In the summer of 2015, Google released a [blog post](http://googleresearch.blogspot.com/2015/06/inceptionism-going-deeper-into-neural.html) describing a new method of generating images from neural networks, and they later [released code](https://github.com/google/deepdream) to generate these images.\n",
    "\n",
    "The idea is very simple. We pick some layer from the network, pass the starting image through the network to extract features at the chosen layer, set the gradient at that layer equal to the activations themselves, and then backpropagate to the image. This has the effect of modifying the image to amplify the activations at the chosen layer of the network.\n",
    "\n",
    "For DeepDream we usually extract features from one of the convolutional layers, allowing us to generate images of any resolution.\n",
    "\n",
    "We can implement this idea using our pretrained network. The results probably won't look as good as Google's since their network is much bigger, but we should still be able to generate some interesting images."
   ]
  },
  {
   "cell_type": "code",
   "execution_count": null,
   "metadata": {
    "collapsed": false
   },
   "outputs": [],
   "source": [
    "def deepdream(X, layer, model, **kwargs):\n",
    "  \"\"\"\n",
    "  Generate a DeepDream image.\n",
    "  \n",
    "  Inputs:\n",
    "  - X: Starting image, of shape (1, 3, H, W)\n",
    "  - layer: Index of layer at which to dream\n",
    "  - model: A PretrainedCNN object\n",
    "  \n",
    "  Keyword arguments:\n",
    "  - learning_rate: How much to update the image at each iteration\n",
    "  - max_jitter: Maximum number of pixels for jitter regularization\n",
    "  - num_iterations: How many iterations to run for\n",
    "  - show_every: How often to show the generated image\n",
    "  \"\"\"\n",
    "  \n",
    "  X = X.copy()\n",
    "  \n",
    "  learning_rate = kwargs.pop('learning_rate', 5.0)\n",
    "  max_jitter = kwargs.pop('max_jitter', 16)\n",
    "  num_iterations = kwargs.pop('num_iterations', 100)\n",
    "  show_every = kwargs.pop('show_every', 25)\n",
    "  \n",
    "  for t in xrange(num_iterations):\n",
    "    # As a regularizer, add random jitter to the image\n",
    "    ox, oy = np.random.randint(-max_jitter, max_jitter+1, 2)\n",
    "    X = np.roll(np.roll(X, ox, -1), oy, -2)\n",
    "\n",
    "    dX = None\n",
    "    ############################################################################\n",
    "    # TODO: Compute the image gradient dX using the DeepDream method. You'll   #\n",
    "    # need to use the forward and backward methods of the model object to      #\n",
    "    # extract activations and set gradients for the chosen layer. After        #\n",
    "    # computing the image gradient dX, you should use the learning rate to     #\n",
    "    # update the image X.                                                      #\n",
    "    ############################################################################\n",
    "    pass\n",
    "    ############################################################################\n",
    "    #                             END OF YOUR CODE                             #\n",
    "    ############################################################################\n",
    "    \n",
    "    # Undo the jitter\n",
    "    X = np.roll(np.roll(X, -ox, -1), -oy, -2)\n",
    "    \n",
    "    # As a regularizer, clip the image\n",
    "    mean_pixel = data['mean_image'].mean(axis=(1, 2), keepdims=True)\n",
    "    X = np.clip(X, -mean_pixel, 255.0 - mean_pixel)\n",
    "    \n",
    "    # Periodically show the image\n",
    "    if t == 0 or (t + 1) % show_every == 0:\n",
    "      img = deprocess_image(X, data['mean_image'], mean='pixel')\n",
    "      plt.imshow(img)\n",
    "      plt.title('t = %d' % (t + 1))\n",
    "      plt.gcf().set_size_inches(8, 8)\n",
    "      plt.axis('off')\n",
    "      plt.show()\n",
    "  return X"
   ]
  },
  {
   "cell_type": "markdown",
   "metadata": {},
   "source": [
    "# Generate some images!\n",
    "Try and generate a cool-looking DeepDeam image using the pretrained network. You can try using different layers, or starting from different images. You can reduce the image size if it runs too slowly on your machine, or increase the image size if you are feeling ambitious."
   ]
  },
  {
   "cell_type": "code",
   "execution_count": null,
   "metadata": {
    "collapsed": false,
    "scrolled": false
   },
   "outputs": [],
   "source": [
    "def read_image(filename, max_size):\n",
    "  \"\"\"\n",
    "  Read an image from disk and resize it so its larger side is max_size\n",
    "  \"\"\"\n",
    "  img = imread(filename)\n",
    "  H, W, _ = img.shape\n",
    "  if H >= W:\n",
    "    img = imresize(img, (max_size, int(W * float(max_size) / H)))\n",
    "  elif H < W:\n",
    "    img = imresize(img, (int(H * float(max_size) / W), max_size))\n",
    "  return img\n",
    "\n",
    "filename = 'kitten.jpg'\n",
    "max_size = 256\n",
    "img = read_image(filename, max_size)\n",
    "plt.imshow(img)\n",
    "plt.axis('off')\n",
    "\n",
    "# Preprocess the image by converting to float, transposing,\n",
    "# and performing mean subtraction.\n",
    "img_pre = preprocess_image(img, data['mean_image'], mean='pixel')\n",
    "\n",
    "out = deepdream(img_pre, 7, model, learning_rate=2000)"
   ]
  }
 ],
 "metadata": {
  "kernelspec": {
   "display_name": "Python 2",
   "language": "python",
   "name": "python2"
  },
  "language_info": {
   "codemirror_mode": {
    "name": "ipython",
    "version": 2
   },
   "file_extension": ".py",
   "mimetype": "text/x-python",
   "name": "python",
   "nbconvert_exporter": "python",
   "pygments_lexer": "ipython2",
   "version": "2.7.6"
  }
 },
 "nbformat": 4,
 "nbformat_minor": 0
}

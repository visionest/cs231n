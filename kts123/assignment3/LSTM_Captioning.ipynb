{
 "cells": [
  {
   "cell_type": "markdown",
   "metadata": {},
   "source": [
    "# LSTM 을 이용한 이미지 자막 달기\n",
    "\n",
    "이전 연습문제에서는 순정(vanilla) RNN을 구현하여 이미지 자막을 달았다.  \n",
    "이번 노트북에서는 LSTM 업데이트 규칙을 구현해서 이미지 자막을 달 것이다."
   ]
  },
  {
   "cell_type": "code",
   "execution_count": 67,
   "metadata": {
    "collapsed": false
   },
   "outputs": [
    {
     "data": {
      "application/javascript": [
       "var fname = document.body.attributes['data-notebook-name'].value\n",
       "var fpath = document.body.attributes['data-notebook-path'].value.replace(/^local/, '/root').replace(fname, '')\n",
       "IPython.notebook.kernel.execute(\"theNoteBookDir = '\" + fpath + \"'\" );"
      ],
      "text/plain": [
       "<IPython.core.display.Javascript object>"
      ]
     },
     "metadata": {},
     "output_type": "display_data"
    }
   ],
   "source": [
    "%%javascript\n",
    "var fname = document.body.attributes['data-notebook-name'].value\n",
    "var fpath = document.body.attributes['data-notebook-path'].value.replace(/^local/, '/root').replace(fname, '')\n",
    "IPython.notebook.kernel.execute(\"theNoteBookDir = '\" + fpath + \"'\" );"
   ]
  },
  {
   "cell_type": "code",
   "execution_count": 68,
   "metadata": {
    "collapsed": true
   },
   "outputs": [],
   "source": [
    "import os\n",
    "os.chdir(theNoteBookDir)"
   ]
  },
  {
   "cell_type": "code",
   "execution_count": 69,
   "metadata": {
    "collapsed": false
   },
   "outputs": [
    {
     "name": "stdout",
     "output_type": "stream",
     "text": [
      "The autoreload extension is already loaded. To reload it, use:\n",
      "  %reload_ext autoreload\n"
     ]
    }
   ],
   "source": [
    "# 평소처럼, 약간의 셋업 작업\n",
    "\n",
    "import time, os, json\n",
    "import numpy as np\n",
    "import matplotlib.pyplot as plt\n",
    "\n",
    "from cs231n.gradient_check import eval_numerical_gradient, eval_numerical_gradient_array\n",
    "from cs231n.rnn_layers import *\n",
    "from cs231n.captioning_solver import CaptioningSolver\n",
    "from cs231n.classifiers.rnn import CaptioningRNN\n",
    "from cs231n.coco_utils import load_coco_data, sample_coco_minibatch, decode_captions\n",
    "from cs231n.image_utils import image_from_url\n",
    "\n",
    "%matplotlib inline\n",
    "plt.rcParams['figure.figsize'] = (10.0, 8.0) # set default size of plots\n",
    "plt.rcParams['image.interpolation'] = 'nearest'\n",
    "plt.rcParams['image.cmap'] = 'gray'\n",
    "\n",
    "# 외부 모듈을 자동 리로드 하기 위한 코드\n",
    "# 다음 링크를 참조 http://stackoverflow.com/questions/1907993/autoreload-of-modules-in-ipython\n",
    "%load_ext autoreload\n",
    "%autoreload 2\n",
    "\n",
    "def rel_error(x, y):\n",
    "  \"\"\" returns relative error \"\"\"\n",
    "  return np.max(np.abs(x - y) / (np.maximum(1e-8, np.abs(x) + np.abs(y))))"
   ]
  },
  {
   "cell_type": "markdown",
   "metadata": {},
   "source": [
    "#  MS-COCO 데이터 로드\n",
    "이전 노트북처럼, 마이크로소프트의 COCO 데이터 셋에 자막을 달 것이다."
   ]
  },
  {
   "cell_type": "code",
   "execution_count": 70,
   "metadata": {
    "collapsed": false
   },
   "outputs": [
    {
     "name": "stdout",
     "output_type": "stream",
     "text": [
      "idx_to_word <type 'list'> 1004\n",
      "train_captions <type 'numpy.ndarray'> (400135, 17) int32\n",
      "val_captions <type 'numpy.ndarray'> (195954, 17) int32\n",
      "train_image_idxs <type 'numpy.ndarray'> (400135,) int32\n",
      "val_features <type 'numpy.ndarray'> (40504, 512) float32\n",
      "val_image_idxs <type 'numpy.ndarray'> (195954,) int32\n",
      "train_features <type 'numpy.ndarray'> (82783, 512) float32\n",
      "train_urls <type 'numpy.ndarray'> (82783,) |S63\n",
      "val_urls <type 'numpy.ndarray'> (40504,) |S63\n",
      "word_to_idx <type 'dict'> 1004\n"
     ]
    }
   ],
   "source": [
    "# Load COCO data from disk; this returns a dictionary\n",
    "# We'll work with dimensionality-reduced features for this notebook, but feel\n",
    "# free to experiment with the original features by changing the flag below.\n",
    "data = load_coco_data(pca_features=True)\n",
    "\n",
    "# Print out all the keys and values from the data dictionary\n",
    "for k, v in data.iteritems():\n",
    "  if type(v) == np.ndarray:\n",
    "    print k, type(v), v.shape, v.dtype\n",
    "  else:\n",
    "    print k, type(v), len(v)"
   ]
  },
  {
   "cell_type": "markdown",
   "metadata": {},
   "source": [
    "# LSTM\n",
    "최신 논문들에서는 많은 이들이 순정 RNN를 변형한 LSTM(Long-Short Term Memory)을 사용한다.  \n",
    "순정 RNN으로 긴 시퀀스를 다룰 때 난관을 만날 수 있다. 반복되는 행력 곱으로 인해 미분값이 사라지거나 폭발하기 때문이다.  \n",
    "LSTM은 순정 RNN의 간단한 업데이트 규칙을 관문 구조(gating mechanism)로 대치해서 이 문제를 해결했다.  \n",
    "  \n",
    "순정 RNN과 유사하게, LSTM은 각 시간 단계에서 입력 $x_t\\in\\mathbb{R}^D$ 와  이전 은닉 상태 $h_{t-1}\\in\\mathbb{R}^H$ 를 받는다.;   \n",
    "LSTM은  $H$-차원을 갖는 *cell state* 를 함께 유지하기 때문에 이전 셀 상태  $c_{t-1}\\in\\mathbb{R}^H$ 도 받는다.  \n",
    "  \n",
    "학습해야 하는 LSTM의 패러미터는 다음과 같다.\n",
    "  - $W_x\\in\\mathbb{R}^{4H\\times D}$ : *input-to-hidden* 행렬  \n",
    "  - $W_h\\in\\mathbb{R}^{4H\\times H}$ : *hidden-to-hidden* 행렬 \n",
    "  - $b\\in\\mathbb{R}^{4H}$ : *bias 벡터* \n",
    "\n",
    "매 단계마다 제일 먼저 *activation 벡터* $a\\in\\mathbb{R}^{4H}$ 를 계산한다. 여기서 $a=W_xx_t + W_hh_{t-1}+b$ 이다.  \n",
    "그 다음 이 *activation 벡터*를 순서대로 H크기를 갖도록 4개의 벡터 $a_i,a_f,a_o,a_g\\in\\mathbb{R}^H$ 로 나눈다.  \n",
    "그 다음 아래 공식으로   \n",
    "  - *input gate (입력 관문)* $i\\in\\mathbb{R}^H$,   \n",
    "  - *forget gate (잊기 관문)* $f\\in\\mathbb{R}^H$,   \n",
    "  - *output gate (출력 관문)* $o\\in\\mathbb{R}^H$,  \n",
    "  - *block input (차단 입력)* $g\\in\\mathbb{R}^H$을 각각 계산한다\n",
    "$$\n",
    "\\begin{align*}\n",
    "i = \\sigma(a_i) \\hspace{2pc}\n",
    "f = \\sigma(a_f) \\hspace{2pc}\n",
    "o = \\sigma(a_o) \\hspace{2pc}\n",
    "g = \\tanh(a_g)\n",
    "\\end{align*}\n",
    "$$\n",
    "\n",
    "여기서 $\\sigma$ 는 시그모이드 함수이고  $\\tanh$ 는 하이퍼볼릭 탄젠트 함수이다.  \n",
    "물론 두 함수 모두 원소별 각각으로(elementwize) 적용 된다.   \n",
    "\n",
    "\n",
    "마지막으로 다음 셀 상태 $c_t$ 와 다음 은닉 상태  $h_t$ 를 아래와 같이 계산한다.\n",
    "\n",
    "$$\n",
    "c_{t} = f\\odot c_{t-1} + i\\odot g \\hspace{4pc}\n",
    "h_t = o\\odot\\tanh(c_t)\n",
    "$$\n",
    "\n",
    "여기서 $\\odot$ 은 두 벡터를 원소별 각각(elementwise) 곱하는 것이다.  \n",
    "\n",
    "\n",
    "이후의 노트북에서는 LSTM 업데이트 규칙을 구현하여 이미지 자막 달기 작업에 적용할 것이다."
   ]
  },
  {
   "cell_type": "markdown",
   "metadata": {},
   "source": [
    "# LSTM: step forward\n",
    "\n",
    "`cs231n/rnn_layers.py` 파일을 열고 `lstm_step_forward` 함수 내부의 LSTM 단일 시간단계(timestep)를 위한 forward 패쓰를 구현하라.  \n",
    "  \n",
    "\n",
    "이 함수는 LSTM 업데이트 규칙을 사용하는 차이점 외에는 이전에 구현한 `rnn_step_forward` 함수와 유사해야 한다.   \n",
    "\n",
    "작성 후에는 구현 검증을 위해 아래 테스트를 수행하라. 오차는 `1e-8` 이하여야 한다."
   ]
  },
  {
   "cell_type": "code",
   "execution_count": 71,
   "metadata": {
    "collapsed": false
   },
   "outputs": [
    {
     "name": "stdout",
     "output_type": "stream",
     "text": [
      "next_h error:  5.70541319671e-09\n",
      "next_c error:  5.81431230888e-09\n"
     ]
    }
   ],
   "source": [
    "N, D, H = 3, 4, 5\n",
    "x       = np.linspace(-0.4, 1.2, num=N*D  ).reshape(N, D)\n",
    "prev_h  = np.linspace(-0.3, 0.7, num=N*H  ).reshape(N, H)\n",
    "prev_c  = np.linspace(-0.4, 0.9, num=N*H  ).reshape(N, H)\n",
    "Wx      = np.linspace(-2.1, 1.3, num=4*D*H).reshape(D, 4 * H)\n",
    "Wh      = np.linspace(-0.7, 2.2, num=4*H*H).reshape(H, 4 * H)\n",
    "b       = np.linspace (0.3, 0.7, num=4*H)\n",
    "\n",
    "next_h, next_c, cache = lstm_step_forward(x, prev_h, prev_c, Wx, Wh, b)\n",
    "\n",
    "expected_next_h = np.asarray([\n",
    "    [ 0.24635157,  0.28610883,  0.32240467,  0.35525807,  0.38474904],\n",
    "    [ 0.49223563,  0.55611431,  0.61507696,  0.66844003,  0.7159181 ],\n",
    "    [ 0.56735664,  0.66310127,  0.74419266,  0.80889665,  0.858299  ]])\n",
    "expected_next_c = np.asarray([\n",
    "    [ 0.32986176,  0.39145139,  0.451556,    0.51014116,  0.56717407],\n",
    "    [ 0.66382255,  0.76674007,  0.87195994,  0.97902709,  1.08751345],\n",
    "    [ 0.74192008,  0.90592151,  1.07717006,  1.25120233,  1.42395676]])\n",
    "\n",
    "print 'next_h error: ', rel_error(expected_next_h, next_h)\n",
    "print 'next_c error: ', rel_error(expected_next_c, next_c)"
   ]
  },
  {
   "cell_type": "markdown",
   "metadata": {},
   "source": [
    "# LSTM: step backward\n",
    "\n",
    "`cs231n/rnn_layers.py` 파일을 열고 `lstm_step_backward` 함수 내부의 LSTM 단일 시간단계(timestep)를 위한 backward 패쓰를 구현하라.  \n",
    "  \n",
    "\n",
    "작성 후에는 구현 검증을 위해 아래 테스트를 수행하라. 오차는 `1e-8` 이하여야 한다."
   ]
  },
  {
   "cell_type": "code",
   "execution_count": 21,
   "metadata": {
    "collapsed": false
   },
   "outputs": [
    {
     "name": "stdout",
     "output_type": "stream",
     "text": [
      " dx error:  1.28703655002e-09\n",
      "dh error:  1.78172721519e-10\n",
      "dc error:  4.5264246782e-10\n",
      "dWx error:  3.75308016167e-09\n",
      "dWh error:  1.18988614743e-09\n",
      "db error:  8.04406581289e-11\n"
     ]
    }
   ],
   "source": [
    "N, D, H = 4, 5, 6\n",
    "x       = np.random.randn(N, D)\n",
    "prev_h  = np.random.randn(N, H)\n",
    "prev_c  = np.random.randn(N, H)\n",
    "Wx      = np.random.randn(D, 4 * H)\n",
    "Wh      = np.random.randn(H, 4 * H)\n",
    "b       = np.random.randn(4 * H)\n",
    "\n",
    "next_h, next_c, cache = lstm_step_forward(x, prev_h, prev_c, Wx, Wh, b)\n",
    "\n",
    "dnext_h = np.random.randn(*next_h.shape)\n",
    "dnext_c = np.random.randn(*next_c.shape)\n",
    "\n",
    "fx_h  = lambda x:  lstm_step_forward(x, prev_h, prev_c, Wx, Wh, b)[0]\n",
    "fh_h  = lambda h:  lstm_step_forward(x, prev_h, prev_c, Wx, Wh, b)[0]\n",
    "fc_h  = lambda c:  lstm_step_forward(x, prev_h, prev_c, Wx, Wh, b)[0]\n",
    "fWx_h = lambda Wx: lstm_step_forward(x, prev_h, prev_c, Wx, Wh, b)[0]\n",
    "fWh_h = lambda Wh: lstm_step_forward(x, prev_h, prev_c, Wx, Wh, b)[0]\n",
    "fb_h  = lambda b:  lstm_step_forward(x, prev_h, prev_c, Wx, Wh, b)[0]\n",
    "\n",
    "fx_c  = lambda x:  lstm_step_forward(x, prev_h, prev_c, Wx, Wh, b)[1]\n",
    "fh_c  = lambda h:  lstm_step_forward(x, prev_h, prev_c, Wx, Wh, b)[1]\n",
    "fc_c  = lambda c:  lstm_step_forward(x, prev_h, prev_c, Wx, Wh, b)[1]\n",
    "fWx_c = lambda Wx: lstm_step_forward(x, prev_h, prev_c, Wx, Wh, b)[1]\n",
    "fWh_c = lambda Wh: lstm_step_forward(x, prev_h, prev_c, Wx, Wh, b)[1]\n",
    "fb_c  = lambda b:  lstm_step_forward(x, prev_h, prev_c, Wx, Wh, b)[1]\n",
    "\n",
    "num_grad = eval_numerical_gradient_array\n",
    "\n",
    "dx_num  = num_grad(fx_h,  x,      dnext_h) + num_grad(fx_c,  x,      dnext_c)\n",
    "dh_num  = num_grad(fh_h,  prev_h, dnext_h) + num_grad(fh_c,  prev_h, dnext_c)\n",
    "dc_num  = num_grad(fc_h,  prev_c, dnext_h) + num_grad(fc_c,  prev_c, dnext_c)\n",
    "dWx_num = num_grad(fWx_h, Wx,     dnext_h) + num_grad(fWx_c, Wx,     dnext_c)\n",
    "dWh_num = num_grad(fWh_h, Wh,     dnext_h) + num_grad(fWh_c, Wh,     dnext_c)\n",
    "db_num  = num_grad(fb_h,  b,      dnext_h) + num_grad(fb_c,  b,      dnext_c)\n",
    "\n",
    "dx, dh, dc, dWx, dWh, db = lstm_step_backward(dnext_h, dnext_c, cache)\n",
    "'''\n",
    "print 'dx:\\n', dx\n",
    "print 'dx_num:\\n', dx_num\n",
    "print 'dh:\\n', dh\n",
    "print 'dh_num:\\n', dh_num\n",
    "print 'dWx:\\n', dWx\n",
    "print 'dWx_num:\\n', dWx_num\n",
    "print 'dWh:\\n', dWh\n",
    "print 'dWh_num:\\n', dWh_num\n",
    "print 'db:\\n', db\n",
    "print 'db_num:\\n', db_num\n",
    "'''\n",
    "print 'dx error: ',  rel_error(dx_num,  dx)\n",
    "print 'dh error: ',  rel_error(dh_num,  dh)\n",
    "print 'dc error: ',  rel_error(dc_num,  dc)\n",
    "print 'dWx error: ', rel_error(dWx_num, dWx)\n",
    "print 'dWh error: ', rel_error(dWh_num, dWh)\n",
    "print 'db error: ',  rel_error(db_num,  db)"
   ]
  },
  {
   "cell_type": "markdown",
   "metadata": {},
   "source": [
    "# LSTM: forward\n",
    "In the function `lstm_forward` in the file `cs231n/rnn_layers.py`, implement the `lstm_forward` function to run an LSTM forward on an entire timeseries of data.\n",
    "\n",
    "When you are done run the following to check your implementation. You should see an error around `1e-7`."
   ]
  },
  {
   "cell_type": "code",
   "execution_count": 22,
   "metadata": {
    "collapsed": false
   },
   "outputs": [
    {
     "name": "stdout",
     "output_type": "stream",
     "text": [
      "h error:  8.61053745211e-08\n"
     ]
    }
   ],
   "source": [
    "N, D, H, T = 2, 5, 4, 3\n",
    "x  = np.linspace(-0.4, 0.6, num=N*T*D).reshape(N, T, D)\n",
    "h0 = np.linspace(-0.4, 0.8, num=N*H  ).reshape(N, H)\n",
    "Wx = np.linspace(-0.2, 0.9, num=4*D*H).reshape(D, 4 * H)\n",
    "Wh = np.linspace(-0.3, 0.6, num=4*H*H).reshape(H, 4 * H)\n",
    "b  = np.linspace( 0.2, 0.7, num=4*H  )\n",
    "\n",
    "h, cache = lstm_forward(x, h0, Wx, Wh, b)\n",
    "\n",
    "expected_h = np.asarray([\n",
    " [[ 0.01764008,  0.01823233,  0.01882671,  0.0194232 ],\n",
    "  [ 0.11287491,  0.12146228,  0.13018446,  0.13902939],\n",
    "  [ 0.31358768,  0.33338627,  0.35304453,  0.37250975]],\n",
    " [[ 0.45767879,  0.4761092,   0.4936887,   0.51041945],\n",
    "  [ 0.6704845,   0.69350089,  0.71486014,  0.7346449 ],\n",
    "  [ 0.81733511,  0.83677871,  0.85403753,  0.86935314]]])\n",
    "\n",
    "print 'h error: ', rel_error(expected_h, h)"
   ]
  },
  {
   "cell_type": "markdown",
   "metadata": {},
   "source": [
    "# LSTM: backward\n",
    "Implement the backward pass for an LSTM over an entire timeseries of data in the function `lstm_backward` in the file `cs231n/rnn_layers.py`. When you are done run the following to perform numeric gradient checking on your implementation. You should see errors around `1e-8` or less."
   ]
  },
  {
   "cell_type": "code",
   "execution_count": 24,
   "metadata": {
    "collapsed": false
   },
   "outputs": [
    {
     "name": "stdout",
     "output_type": "stream",
     "text": [
      " dx error:  1.74469634139e-09\n",
      "dh0 error:  1.74469634139e-09\n",
      "dWx error:  1.74469634139e-09\n",
      "dWh error:  1.74469634139e-09\n",
      "db error:  1.74469634139e-09\n"
     ]
    }
   ],
   "source": [
    "from cs231n.rnn_layers import lstm_forward, lstm_backward\n",
    "\n",
    "N, D, T, H = 2, 3, 10, 6\n",
    "\n",
    "x  = np.random.randn(N, T, D)\n",
    "h0 = np.random.randn(N, H)\n",
    "Wx = np.random.randn(D, 4 * H)\n",
    "Wh = np.random.randn(H, 4 * H)\n",
    "b  = np.random.randn(4 * H)\n",
    "\n",
    "out, cache = lstm_forward(x, h0, Wx, Wh, b)\n",
    "\n",
    "dout = np.random.randn(*out.shape)\n",
    "\n",
    "dx, dh0, dWx, dWh, db = lstm_backward(dout, cache)\n",
    "\n",
    "fx  = lambda x:  lstm_forward(x, h0, Wx, Wh, b)[0]\n",
    "fh0 = lambda h0: lstm_forward(x, h0, Wx, Wh, b)[0]\n",
    "fWx = lambda Wx: lstm_forward(x, h0, Wx, Wh, b)[0]\n",
    "fWh = lambda Wh: lstm_forward(x, h0, Wx, Wh, b)[0]\n",
    "fb  = lambda b:  lstm_forward(x, h0, Wx, Wh, b)[0]\n",
    "\n",
    "dx_num  = eval_numerical_gradient_array(fx,  x,  dout)\n",
    "dh0_num = eval_numerical_gradient_array(fh0, h0, dout)\n",
    "dWx_num = eval_numerical_gradient_array(fWx, Wx, dout)\n",
    "dWh_num = eval_numerical_gradient_array(fWh, Wh, dout)\n",
    "db_num  = eval_numerical_gradient_array(fb,  b,  dout)\n",
    "\n",
    "print 'dx error: ',  rel_error(dx_num, dx)\n",
    "print 'dh0 error: ', rel_error(dx_num, dx)\n",
    "print 'dWx error: ', rel_error(dx_num, dx)\n",
    "print 'dWh error: ', rel_error(dx_num, dx)\n",
    "print 'db error: ',  rel_error(dx_num, dx)"
   ]
  },
  {
   "cell_type": "markdown",
   "metadata": {},
   "source": [
    "#LSTM captioning model\n",
    "Now that you have implemented an LSTM, update the implementation of the `loss` method of the `CaptioningRNN` class in the file `cs231n/classifiers/rnn.py` to handle the case where `self.cell_type` is `lstm`. This should require adding less than 10 lines of code.\n",
    "\n",
    "Once you have done so, run the following to check your implementation. You should see a difference of less than `1e-10`."
   ]
  },
  {
   "cell_type": "code",
   "execution_count": 27,
   "metadata": {
    "collapsed": false
   },
   "outputs": [
    {
     "name": "stdout",
     "output_type": "stream",
     "text": [
      "loss:  9.82445935443\n",
      "expected loss:  9.82445935443\n",
      "difference:  2.26485497024e-12\n"
     ]
    }
   ],
   "source": [
    "N, D, W, H  = 10, 20, 30, 40\n",
    "word_to_idx = {'<NULL>': 0, 'cat': 2, 'dog': 3}\n",
    "V = len(word_to_idx)\n",
    "T = 13\n",
    "\n",
    "model = CaptioningRNN(word_to_idx,\n",
    "          input_dim=D,\n",
    "          wordvec_dim=W,\n",
    "          hidden_dim=H,\n",
    "          cell_type='lstm',\n",
    "          dtype=np.float64)\n",
    "\n",
    "# Set all model parameters to fixed values\n",
    "for k, v in model.params.iteritems():\n",
    "  model.params[k] = np.linspace(-1.4, 1.3, num=v.size).reshape(*v.shape)\n",
    "\n",
    "features = np.linspace(-0.5, 1.7, num=N*D).reshape(N, D)\n",
    "captions = (np.arange(N * T) % V).reshape(N, T)\n",
    "\n",
    "loss, grads  = model.loss(features, captions)\n",
    "expected_loss = 9.82445935443\n",
    "\n",
    "print 'loss: '         , loss\n",
    "print 'expected loss: ', expected_loss\n",
    "print 'difference: '   , abs(loss - expected_loss)"
   ]
  },
  {
   "cell_type": "markdown",
   "metadata": {},
   "source": [
    "# Overfit LSTM captioning model\n",
    "Run the following to overfit an LSTM captioning model on the same small dataset as we used for the RNN above."
   ]
  },
  {
   "cell_type": "code",
   "execution_count": 28,
   "metadata": {
    "collapsed": false
   },
   "outputs": [
    {
     "name": "stdout",
     "output_type": "stream",
     "text": [
      "(Iteration 1 / 100) loss: 78.582867\n",
      "(Iteration 11 / 100) loss: 42.148550\n",
      "(Iteration 21 / 100) loss: 26.199102\n",
      "(Iteration 31 / 100) loss: 15.305671\n",
      "(Iteration 41 / 100) loss: 5.624676\n",
      "(Iteration 51 / 100) loss: 2.272119\n",
      "(Iteration 61 / 100) loss: 0.944098\n",
      "(Iteration 71 / 100) loss: 0.333837\n",
      "(Iteration 81 / 100) loss: 0.201439\n",
      "(Iteration 91 / 100) loss: 0.124337\n"
     ]
    },
    {
     "data": {
      "image/png": "[encoded data removed]",
      "text/plain": [
       "<matplotlib.figure.Figure at 0x7f3532703190>"
      ]
     },
     "metadata": {},
     "output_type": "display_data"
    }
   ],
   "source": [
    "small_data = load_coco_data(max_train=50)\n",
    "\n",
    "small_lstm_model = CaptioningRNN(\n",
    "          cell_type   = 'lstm',\n",
    "          word_to_idx = data['word_to_idx'],\n",
    "          input_dim   = data['train_features'].shape[1],\n",
    "          hidden_dim  = 512,\n",
    "          wordvec_dim = 256,\n",
    "          dtype       = np.float32,\n",
    "        )\n",
    "\n",
    "small_lstm_solver = CaptioningSolver(small_lstm_model, small_data,\n",
    "           update_rule  = 'adam',\n",
    "           num_epochs   = 50,\n",
    "           batch_size   = 25,\n",
    "           optim_config = {'learning_rate': 5e-3,},\n",
    "           lr_decay     = 0.995,\n",
    "           verbose      = True, \n",
    "           print_every  = 10,\n",
    "         )\n",
    "\n",
    "small_lstm_solver.train()\n",
    "\n",
    "# Plot the training losses\n",
    "plt.plot(small_lstm_solver.loss_history)\n",
    "plt.xlabel('Iteration')\n",
    "plt.ylabel('Loss')\n",
    "plt.title('Training loss history')\n",
    "plt.show()"
   ]
  },
  {
   "cell_type": "markdown",
   "metadata": {},
   "source": [
    "# LSTM test-time sampling\n",
    "Modify the `sample` method of the `CaptioningRNN` class to handle the case where `self.cell_type` is `lstm`. This should take fewer than 10 lines of code.\n",
    "\n",
    "When you are done run the following to sample from your overfit LSTM model on some training and validation set samples."
   ]
  },
  {
   "cell_type": "code",
   "execution_count": null,
   "metadata": {
    "collapsed": false
   },
   "outputs": [],
   "source": [
    "for split in ['train', 'val']:\n",
    "  minibatch   = sample_coco_minibatch(small_data, split=split, batch_size=2)\n",
    "  gt_captions, features, urls = minibatch\n",
    "  gt_captions = decode_captions(gt_captions, data['idx_to_word'])\n",
    "\n",
    "  sample_captions = small_lstm_model.sample(features)\n",
    "  sample_captions = decode_captions(sample_captions, data['idx_to_word'])\n",
    "\n",
    "  for gt_caption, sample_caption, url in zip(gt_captions, sample_captions, urls):\n",
    "    plt.imshow(image_from_url(url))\n",
    "    plt.title('%s\\n%s\\nGT:%s' % (split, sample_caption, gt_caption))\n",
    "    plt.axis('off')\n",
    "    plt.show()"
   ]
  },
  {
   "cell_type": "markdown",
   "metadata": {},
   "source": [
    "# Train a good captioning model!\n",
    "Using the pieces you have implemented in this and the previous notebook, try to train a captioning model that gives decent qualitative results (better than the random garbage you saw with the overfit models) when sampling on the validation set. You can subsample the training set if you want; we just want to see samples on the validatation set that are better than random.\n",
    "\n",
    "Don't spend too much time on this part; we don't have any explicit accuracy thresholds you need to meet."
   ]
  },
  {
   "cell_type": "code",
   "execution_count": null,
   "metadata": {
    "collapsed": false
   },
   "outputs": [],
   "source": [
    "pass\n"
   ]
  },
  {
   "cell_type": "code",
   "execution_count": null,
   "metadata": {
    "collapsed": false,
    "scrolled": false
   },
   "outputs": [],
   "source": [
    "pass\n"
   ]
  }
 ],
 "metadata": {
  "kernelspec": {
   "display_name": "Python 2",
   "language": "python",
   "name": "python2"
  },
  "language_info": {
   "codemirror_mode": {
    "name": "ipython",
    "version": 2
   },
   "file_extension": ".py",
   "mimetype": "text/x-python",
   "name": "python",
   "nbconvert_exporter": "python",
   "pygments_lexer": "ipython2",
   "version": "2.7.6"
  }
 },
 "nbformat": 4,
 "nbformat_minor": 0
}

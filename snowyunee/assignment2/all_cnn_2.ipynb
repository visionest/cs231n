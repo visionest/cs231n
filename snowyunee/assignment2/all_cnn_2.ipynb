{
 "cells": [
  {
   "cell_type": "markdown",
   "metadata": {},
   "source": [
    "# Keras CIFAR10をCNNで分類\n",
    "\n",
    "この論文のAll-CNN-Cをやってみた\n",
    "http://arxiv.org/pdf/1412.6806.pdf"
   ]
  },
  {
   "cell_type": "code",
   "execution_count": null,
   "metadata": {
    "collapsed": true
   },
   "outputs": [],
   "source": [
    "# https://gist.github.com/juntaki/e50200c82d6f3a5143e7b206a0ab2451\n",
    "# https://github.com/NervanaSystems/neon/blob/master/examples/cifar10_allcnn.py"
   ]
  },
  {
   "cell_type": "code",
   "execution_count": 1,
   "metadata": {
    "collapsed": false,
    "scrolled": true
   },
   "outputs": [
    {
     "name": "stderr",
     "output_type": "stream",
     "text": [
      "Using TensorFlow backend.\n",
      "/usr/local/lib/python2.7/dist-packages/numpy/core/fromnumeric.py:2652: VisibleDeprecationWarning: `rank` is deprecated; use the `ndim` attribute or function instead. To find the rank of a matrix see `numpy.linalg.matrix_rank`.\n",
      "  VisibleDeprecationWarning)\n"
     ]
    }
   ],
   "source": [
    "import numpy as np\n",
    "import matplotlib.pyplot as plt\n",
    "%matplotlib inline\n",
    "from keras.utils import np_utils\n",
    "from keras.datasets import cifar10\n",
    "from keras.preprocessing.image import ImageDataGenerator\n",
    "from keras.models import Sequential\n",
    "from keras.layers import Dense, Dropout, Activation, Flatten\n",
    "from keras.layers import Convolution2D, MaxPooling2D, AveragePooling2D\n",
    "from keras.optimizers import *\n",
    "from sklearn import datasets, preprocessing\n",
    "from keras.regularizers import l2\n",
    "import keras as keras"
   ]
  },
  {
   "cell_type": "code",
   "execution_count": 2,
   "metadata": {
    "collapsed": false
   },
   "outputs": [
    {
     "name": "stdout",
     "output_type": "stream",
     "text": [
      "('X_train shape:', (50000, 3, 32, 32))\n",
      "(50000, 'train samples')\n",
      "(10000, 'test samples')\n"
     ]
    }
   ],
   "source": [
    "batch_size = 32\n",
    "nb_classes = 10\n",
    "nb_epoch = 10\n",
    "data_augmentation = True\n",
    "\n",
    "# input image dimensions\n",
    "img_rows, img_cols = 32, 32\n",
    "# the CIFAR10 images are RGB\n",
    "img_channels = 3\n",
    "\n",
    "# the data, shuffled and split between train and test sets\n",
    "(X_train, y_train), (X_test, y_test) = cifar10.load_data()\n",
    "print('X_train shape:', X_train.shape)\n",
    "print(X_train.shape[0], 'train samples')\n",
    "print(X_test.shape[0], 'test samples')\n",
    "\n",
    "# convert class vectors to binary class matrices\n",
    "Y_train = np_utils.to_categorical(y_train, nb_classes)\n",
    "Y_test = np_utils.to_categorical(y_test, nb_classes) "
   ]
  },
  {
   "cell_type": "code",
   "execution_count": 3,
   "metadata": {
    "collapsed": false
   },
   "outputs": [
    {
     "data": {
      "text/plain": [
       "array([ 1.,  0.,  0.,  0.,  0.,  0.,  0.,  0.,  0.,  0.])"
      ]
     },
     "execution_count": 3,
     "metadata": {},
     "output_type": "execute_result"
    },
    {
     "data": {
      "image/png": "[encoded data removed]",
      "text/plain": [
       "<matplotlib.figure.Figure at 0x7fa1cf6e33d0>"
      ]
     },
     "metadata": {},
     "output_type": "display_data"
    }
   ],
   "source": [
    "number = 404\n",
    "img = X_train[number].reshape(3,32,32)\n",
    "img1 = np.rollaxis(img, 0 ,3)\n",
    "img1.shape\n",
    "plt.imshow(img1, interpolation='none')\n",
    "Y_train[number]"
   ]
  },
  {
   "cell_type": "code",
   "execution_count": 18,
   "metadata": {
    "collapsed": false
   },
   "outputs": [],
   "source": [
    "# using-learning-rate-schedules-deep-learning-models-python-keras/\n",
    "# http://machinelearningmastery.com/using-learning-rate-schedules-deep-learning-models-python-keras/\n",
    "\n",
    "# make model\n",
    "def make_model_xavier_init():\n",
    "  model = Sequential()\n",
    "  model.add(Dropout(0.2, input_shape=(3, 32, 32)))\n",
    "  model.add(Convolution2D(96, 3, 3, border_mode=\"same\", W_regularizer=l2(0.001), init=\"glorot_normal\" ))\n",
    "  model.add(Activation('relu'))\n",
    "  model.add(Convolution2D(96, 3, 3, border_mode=\"same\", W_regularizer=l2(0.001), init=\"glorot_normal\"))\n",
    "  model.add(Activation('relu'))\n",
    "  model.add(Convolution2D(96, 3, 3, border_mode=\"same\", subsample=(2,2), W_regularizer=l2(0.001), init=\"glorot_normal\"))\n",
    "  model.add(Activation('relu'))\n",
    "  model.add(Dropout(0.5))\n",
    "  model.add(Convolution2D(192, 3, 3, border_mode=\"same\", W_regularizer=l2(0.001), init=\"glorot_normal\"))\n",
    "  model.add(Activation('relu'))\n",
    "  model.add(Convolution2D(192, 3, 3, border_mode=\"same\", W_regularizer=l2(0.001), init=\"glorot_normal\"))\n",
    "  model.add(Activation('relu'))\n",
    "  model.add(Convolution2D(192, 3, 3, border_mode=\"same\", subsample=(2,2), W_regularizer=l2(0.001), init=\"glorot_normal\"))\n",
    "  model.add(Activation('relu'))\n",
    "  model.add(Dropout(0.5))\n",
    "  model.add(Convolution2D(192, 3, 3, border_mode=\"same\", W_regularizer=l2(0.001), init=\"glorot_normal\"))\n",
    "  model.add(Activation('relu'))\n",
    "  model.add(Convolution2D(192, 1, 1, border_mode=\"same\", W_regularizer=l2(0.001), init=\"glorot_normal\"))\n",
    "  model.add(Activation('relu'))\n",
    "  model.add(Convolution2D(10, 1, 1, border_mode=\"same\", W_regularizer=l2(0.001), init=\"glorot_normal\"))\n",
    "  model.add(Activation('relu'))\n",
    "  model.add(AveragePooling2D(pool_size=(8, 8), border_mode='valid'))\n",
    "  model.add(Flatten())\n",
    "  model.add(Activation(\"softmax\"))\n",
    "  return model\n",
    "\n",
    "def make_model_temp():\n",
    "  model = Sequential()\n",
    "  model.add(Dropout(0.2, input_shape=(3, 32, 32)))\n",
    "  model.add(Convolution2D(96, 3, 3, border_mode=\"same\", W_regularizer=l2(0.001)))\n",
    "  model.add(Activation('relu'))\n",
    "  model.add(Convolution2D(96, 3, 3, border_mode=\"same\", W_regularizer=l2(0.001)))\n",
    "  model.add(Activation('relu'))\n",
    "  model.add(Convolution2D(96, 3, 3, border_mode=\"same\", subsample=(2,2), W_regularizer=l2(0.001)))\n",
    "  model.add(Activation('relu'))\n",
    "  model.add(Dropout(0.5))\n",
    "  model.add(Convolution2D(192, 3, 3, border_mode=\"same\", W_regularizer=l2(0.001)))\n",
    "  model.add(Activation('relu'))\n",
    "  model.add(Convolution2D(192, 3, 3, border_mode=\"same\", W_regularizer=l2(0.001)))\n",
    "  model.add(Activation('relu'))\n",
    "  model.add(Convolution2D(192, 3, 3, border_mode=\"same\", subsample=(2,2), W_regularizer=l2(0.001)))\n",
    "  model.add(Activation('relu'))\n",
    "  model.add(Dropout(0.5))\n",
    "  model.add(Convolution2D(192, 3, 3, border_mode=\"same\", W_regularizer=l2(0.001)))\n",
    "  model.add(Activation('relu'))\n",
    "  model.add(Convolution2D(192, 1, 1, border_mode=\"same\", W_regularizer=l2(0.001)))\n",
    "  model.add(Activation('relu'))\n",
    "  model.add(Convolution2D(10, 1, 1, border_mode=\"same\", W_regularizer=l2(0.001)))\n",
    "  model.add(Activation('relu'))\n",
    "  model.add(AveragePooling2D(pool_size=(8, 8), border_mode='valid'))\n",
    "  model.add(Flatten())\n",
    "  model.add(Activation(\"softmax\"))\n",
    "  return model\n",
    "\n",
    "\n",
    "def make_detagen ():\n",
    "  datagen = ImageDataGenerator(\n",
    "          featurewise_center=False,  # set input mean to 0 over the dataset\n",
    "          samplewise_center=False,  # set each sample mean to 0\n",
    "          featurewise_std_normalization=False,  # divide inputs by std of the dataset\n",
    "          samplewise_std_normalization=False,  # divide each input by its std\n",
    "          zca_whitening=False,  # apply ZCA whitening\n",
    "          rotation_range=0,  # randomly rotate images in the range (degrees, 0 to 180)\n",
    "          width_shift_range=0.,  # randomly shift images horizontally (fraction of total width)\n",
    "          height_shift_range=0.,  # randomly shift images vertically (fraction of total height)\n",
    "          horizontal_flip=False,  # randomly flip images\n",
    "          vertical_flip=False)  # randomly flip images\n",
    "\n",
    "  datagen.fit(X_train)\n",
    "  return datagen\n"
   ]
  },
  {
   "cell_type": "code",
   "execution_count": null,
   "metadata": {
    "collapsed": false,
    "scrolled": false
   },
   "outputs": [
    {
     "name": "stdout",
     "output_type": "stream",
     "text": [
      "____________________________________________________________________________________________________\n",
      "Layer (type)                     Output Shape          Param #     Connected to                     \n",
      "====================================================================================================\n",
      "dropout_37 (Dropout)             (None, 3, 32, 32)     0           dropout_input_13[0][0]           \n",
      "____________________________________________________________________________________________________\n",
      "convolution2d_109 (Convolution2D)(None, 96, 32, 32)    2688        dropout_37[0][0]                 \n",
      "____________________________________________________________________________________________________\n",
      "activation_121 (Activation)      (None, 96, 32, 32)    0           convolution2d_109[0][0]          \n",
      "____________________________________________________________________________________________________\n",
      "convolution2d_110 (Convolution2D)(None, 96, 32, 32)    83040       activation_121[0][0]             \n",
      "____________________________________________________________________________________________________\n",
      "activation_122 (Activation)      (None, 96, 32, 32)    0           convolution2d_110[0][0]          \n",
      "____________________________________________________________________________________________________\n",
      "convolution2d_111 (Convolution2D)(None, 96, 16, 16)    83040       activation_122[0][0]             \n",
      "____________________________________________________________________________________________________\n",
      "activation_123 (Activation)      (None, 96, 16, 16)    0           convolution2d_111[0][0]          \n",
      "____________________________________________________________________________________________________\n",
      "dropout_38 (Dropout)             (None, 96, 16, 16)    0           activation_123[0][0]             \n",
      "____________________________________________________________________________________________________\n",
      "convolution2d_112 (Convolution2D)(None, 192, 16, 16)   166080      dropout_38[0][0]                 \n",
      "____________________________________________________________________________________________________\n",
      "activation_124 (Activation)      (None, 192, 16, 16)   0           convolution2d_112[0][0]          \n",
      "____________________________________________________________________________________________________\n",
      "convolution2d_113 (Convolution2D)(None, 192, 16, 16)   331968      activation_124[0][0]             \n",
      "____________________________________________________________________________________________________\n",
      "activation_125 (Activation)      (None, 192, 16, 16)   0           convolution2d_113[0][0]          \n",
      "____________________________________________________________________________________________________\n",
      "convolution2d_114 (Convolution2D)(None, 192, 8, 8)     331968      activation_125[0][0]             \n",
      "____________________________________________________________________________________________________\n",
      "activation_126 (Activation)      (None, 192, 8, 8)     0           convolution2d_114[0][0]          \n",
      "____________________________________________________________________________________________________\n",
      "dropout_39 (Dropout)             (None, 192, 8, 8)     0           activation_126[0][0]             \n",
      "____________________________________________________________________________________________________\n",
      "convolution2d_115 (Convolution2D)(None, 192, 8, 8)     331968      dropout_39[0][0]                 \n",
      "____________________________________________________________________________________________________\n",
      "activation_127 (Activation)      (None, 192, 8, 8)     0           convolution2d_115[0][0]          \n",
      "____________________________________________________________________________________________________\n",
      "convolution2d_116 (Convolution2D)(None, 192, 8, 8)     37056       activation_127[0][0]             \n",
      "____________________________________________________________________________________________________\n",
      "activation_128 (Activation)      (None, 192, 8, 8)     0           convolution2d_116[0][0]          \n",
      "____________________________________________________________________________________________________\n",
      "convolution2d_117 (Convolution2D)(None, 10, 8, 8)      1930        activation_128[0][0]             \n",
      "____________________________________________________________________________________________________\n",
      "activation_129 (Activation)      (None, 10, 8, 8)      0           convolution2d_117[0][0]          \n",
      "____________________________________________________________________________________________________\n",
      "averagepooling2d_13 (AveragePooli(None, 10, 1, 1)      0           activation_129[0][0]             \n",
      "____________________________________________________________________________________________________\n",
      "flatten_13 (Flatten)             (None, 10)            0           averagepooling2d_13[0][0]        \n",
      "____________________________________________________________________________________________________\n",
      "activation_130 (Activation)      (None, 10)            0           flatten_13[0][0]                 \n",
      "====================================================================================================\n",
      "Total params: 1369738\n",
      "____________________________________________________________________________________________________\n",
      "epoch: 0\n",
      "Epoch 1/350\n",
      "50000/50000 [==============================] - 106s - loss: 2.1182 - acc: 0.2017 - val_loss: 1.9649 - val_acc: 0.3024\n",
      "Epoch 2/350\n",
      "50000/50000 [==============================] - 105s - loss: 1.8383 - acc: 0.3179 - val_loss: 1.7902 - val_acc: 0.3328\n",
      "Epoch 3/350\n",
      "50000/50000 [==============================] - 105s - loss: 1.6613 - acc: 0.3878 - val_loss: 1.6966 - val_acc: 0.3837\n",
      "Epoch 4/350\n",
      "50000/50000 [==============================] - 105s - loss: 1.5609 - acc: 0.4258 - val_loss: 1.5009 - val_acc: 0.4394\n",
      "Epoch 5/350\n",
      "21024/50000 [===========>..................] - ETA: 57s - loss: 1.5053 - acc: 0.4495"
     ]
    }
   ],
   "source": [
    "\n",
    "# learning rate schedule\n",
    "def lr_decay_schedule(epoch):\n",
    "  if (epoch == 0 or epoch == 200 or epoch == 250 or epoch == 300):\n",
    "    print \"epoch:\" , epoch\n",
    "  if (epoch < 200):\n",
    "    return 0.01\n",
    "  elif (epoch < 250):\n",
    "    return 0.001\n",
    "  elif (epoch < 300):\n",
    "    return 0.0001\n",
    "  return 0.00001\n",
    "\n",
    "def test1():\n",
    "  \"\"\"\n",
    "  # time based decay\n",
    "  # Compile model\n",
    "  epochs = 50\n",
    "  learning_rate = 0.1\n",
    "  decay_rate = learning_rate / epochs\n",
    "  momentum = 0.8\n",
    "  sgd = SGD(lr=learning_rate, momentum=momentum, decay=decay_rate, nesterov=False)\n",
    "  \"\"\"\n",
    "\n",
    "  # Make model\n",
    "  model = make_model_xavier_init()\n",
    "  #model = make_model_temp()\n",
    "\n",
    "  # Compile model\n",
    "  #sgd = SGD(lr=0.01, momentum=0.9)\n",
    "  sgd = SGD()\n",
    "  model.compile(loss='categorical_crossentropy', optimizer=sgd, metrics=['accuracy'])\n",
    "  return model\n",
    "\n",
    "# create model\n",
    "model1 = test1()\n",
    "model1.summary()\n",
    "# learning schedule callback\n",
    "lrate = keras.callbacks.LearningRateScheduler(lr_decay_schedule)\n",
    "callbacks_list = [lrate]\n",
    "# Fit the model\n",
    "datagen1 = make_detagen()\n",
    "model1.fit_generator(datagen1.flow(X_train, Y_train, batch_size=batch_size),\n",
    "                      samples_per_epoch=X_train.shape[0],\n",
    "                      nb_epoch=350,\n",
    "                      callbacks = callbacks_list,               # learning schedule callback\n",
    "                      validation_data=(X_test, Y_test))\n"
   ]
  }
 ],
 "metadata": {
  "_draft": {
   "nbviewer_url": "https://gist.github.com/e50200c82d6f3a5143e7b206a0ab2451"
  },
  "gist": {
   "data": {
    "description": "keras-cifar10 dropout",
    "public": false
   },
   "id": "e50200c82d6f3a5143e7b206a0ab2451"
  },
  "kernelspec": {
   "display_name": "Python 2",
   "language": "python",
   "name": "python2"
  },
  "language_info": {
   "codemirror_mode": {
    "name": "ipython",
    "version": 2
   },
   "file_extension": ".py",
   "mimetype": "text/x-python",
   "name": "python",
   "nbconvert_exporter": "python",
   "pygments_lexer": "ipython2",
   "version": "2.7.6"
  }
 },
 "nbformat": 4,
 "nbformat_minor": 0
}
